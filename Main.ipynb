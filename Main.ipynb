{
 "cells": [
  {
   "cell_type": "code",
   "execution_count": 2,
   "metadata": {},
   "outputs": [],
   "source": [
    "import pandas as pd\n",
    "import numpy as np\n",
    "import matplotlib.pyplot as plt\n",
    "import seaborn as sn"
   ]
  },
  {
   "cell_type": "code",
   "execution_count": 1,
   "metadata": {
    "scrolled": true
   },
   "outputs": [
    {
     "ename": "NameError",
     "evalue": "name 'pd' is not defined",
     "output_type": "error",
     "traceback": [
      "\u001b[1;31m---------------------------------------------------------------------------\u001b[0m",
      "\u001b[1;31mNameError\u001b[0m                                 Traceback (most recent call last)",
      "\u001b[1;32m<ipython-input-1-f7bff68875f4>\u001b[0m in \u001b[0;36m<module>\u001b[1;34m\u001b[0m\n\u001b[1;32m----> 1\u001b[1;33m \u001b[0mds\u001b[0m \u001b[1;33m=\u001b[0m \u001b[0mpd\u001b[0m\u001b[1;33m.\u001b[0m\u001b[0mread_csv\u001b[0m\u001b[1;33m(\u001b[0m\u001b[1;34m\"survey.csv\"\u001b[0m\u001b[1;33m)\u001b[0m\u001b[1;33m\u001b[0m\u001b[1;33m\u001b[0m\u001b[0m\n\u001b[0m\u001b[0;32m      2\u001b[0m \u001b[1;31m#ds.head(15)\u001b[0m\u001b[1;33m\u001b[0m\u001b[1;33m\u001b[0m\u001b[1;33m\u001b[0m\u001b[0m\n",
      "\u001b[1;31mNameError\u001b[0m: name 'pd' is not defined"
     ]
    }
   ],
   "source": [
    "ds = pd.read_csv(\"survey.csv\")\n",
    "#ds.head(15)"
   ]
  },
  {
   "cell_type": "markdown",
   "metadata": {},
   "source": [
    "## Define mental health problems:"
   ]
  },
  {
   "cell_type": "code",
   "execution_count": 4,
   "metadata": {},
   "outputs": [],
   "source": [
    "# what are the persons with mental health problems?\n",
    "#if the person look for treatment shows that the person have mental problems\n",
    "ds[\"mental problem\"] = ds[\"treatment\"] ==\"Yes\" \n"
   ]
  },
  {
   "cell_type": "markdown",
   "metadata": {},
   "source": [
    "## Define genders:\n"
   ]
  },
  {
   "cell_type": "code",
   "execution_count": 2,
   "metadata": {},
   "outputs": [
    {
     "ename": "NameError",
     "evalue": "name 'ds' is not defined",
     "output_type": "error",
     "traceback": [
      "\u001b[1;31m---------------------------------------------------------------------------\u001b[0m",
      "\u001b[1;31mNameError\u001b[0m                                 Traceback (most recent call last)",
      "\u001b[1;32m<ipython-input-2-8d2eceb8a192>\u001b[0m in \u001b[0;36m<module>\u001b[1;34m\u001b[0m\n\u001b[0;32m      1\u001b[0m \u001b[1;31m#if there is a correlation between working for a tech company and having mental problems.\u001b[0m\u001b[1;33m\u001b[0m\u001b[1;33m\u001b[0m\u001b[1;33m\u001b[0m\u001b[0m\n\u001b[0;32m      2\u001b[0m \u001b[1;31m#This code creates 3 new tables, Female, Male and other:\u001b[0m\u001b[1;33m\u001b[0m\u001b[1;33m\u001b[0m\u001b[1;33m\u001b[0m\u001b[0m\n\u001b[1;32m----> 3\u001b[1;33m \u001b[0mds\u001b[0m\u001b[1;33m[\u001b[0m\u001b[1;34m\"Gender\"\u001b[0m\u001b[1;33m]\u001b[0m\u001b[1;33m.\u001b[0m\u001b[0munique\u001b[0m\u001b[1;33m(\u001b[0m\u001b[1;33m)\u001b[0m\u001b[1;33m\u001b[0m\u001b[1;33m\u001b[0m\u001b[0m\n\u001b[0m\u001b[0;32m      4\u001b[0m \u001b[0mds\u001b[0m\u001b[1;33m[\u001b[0m\u001b[1;34m\"Female\"\u001b[0m\u001b[1;33m]\u001b[0m \u001b[1;33m=\u001b[0m \u001b[0mds\u001b[0m\u001b[1;33m[\u001b[0m\u001b[1;34m'Gender'\u001b[0m\u001b[1;33m]\u001b[0m\u001b[1;33m.\u001b[0m\u001b[0mstr\u001b[0m\u001b[1;33m.\u001b[0m\u001b[0mstartswith\u001b[0m\u001b[1;33m(\u001b[0m\u001b[1;34m\"F\"\u001b[0m \u001b[1;32mor\u001b[0m \u001b[1;34m\"f\"\u001b[0m \u001b[1;32mor\u001b[0m \u001b[1;34m\"W\"\u001b[0m \u001b[1;32mor\u001b[0m \u001b[1;34m\"w\"\u001b[0m\u001b[1;33m)\u001b[0m\u001b[1;33m\u001b[0m\u001b[1;33m\u001b[0m\u001b[0m\n\u001b[0;32m      5\u001b[0m \u001b[1;31m#ds[\"Female\"]\u001b[0m\u001b[1;33m\u001b[0m\u001b[1;33m\u001b[0m\u001b[1;33m\u001b[0m\u001b[0m\n",
      "\u001b[1;31mNameError\u001b[0m: name 'ds' is not defined"
     ]
    }
   ],
   "source": [
    "#if there is a correlation between working for a tech company and having mental problems.\n",
    "#This code creates 3 new tables, Female, Male and other:\n",
    "ds[\"Gender\"].unique()\n",
    "ds[\"Female\"] = ds['Gender'].str.startswith(\"F\" or \"f\" or \"W\" or \"w\")\n",
    "#ds[\"Female\"]\n",
    "\n",
    "ds[\"Male\"] = ds['Gender'].str.startswith(\"M\" or \"m\")\n",
    "ds[\"Male\"]\n",
    "\n",
    "ds[\"other_gender\"] = ds[\"Gender\"].str.startswith(not \"F\" or \"f\" or \"W\" or \"w\" or \"M\" or \"m\")\n",
    "#ds[\"other_gender\"]"
   ]
  },
  {
   "cell_type": "code",
   "execution_count": 6,
   "metadata": {},
   "outputs": [
    {
     "data": {
      "text/plain": [
       "339"
      ]
     },
     "execution_count": 6,
     "metadata": {},
     "output_type": "execute_result"
    }
   ],
   "source": [
    "#What is the percentage of males/females with mental problems:\n",
    "\n",
    "#1) Define inside every category which are the percentage of male, female and other with mental problems:\n",
    "def match_M(row):\n",
    "    if (row['Male'] == True) and (row['mental problem'] == True):\n",
    "        val = 1\n",
    "    else:\n",
    "        val = 0\n",
    "    return val\n",
    "\n",
    "def match_F(row):\n",
    "    if (row['Female'] == True) and (row['mental problem'] == True):\n",
    "        val = 1\n",
    "    else:\n",
    "        val = 0\n",
    "    return val\n",
    "\n",
    "def match_O(row):\n",
    "    if (row['other_gender'] == True) and (row['mental problem'] == True):\n",
    "        val = 1\n",
    "    else:\n",
    "        val = 0\n",
    "    return val\n",
    "\n",
    "ds['sk_male'] = ds.apply(match_M, axis=1)\n",
    "ds['sk_female'] = ds.apply(match_F, axis=1)\n",
    "ds['sk_other'] = ds.apply(match_O, axis=1)\n",
    "\n",
    "total_doents = ds[\"mental problem\"].sum()\n",
    "\n",
    "sum_sk_male = ds[\"sk_male\"].sum()\n",
    "sum_sk_female = ds[\"sk_female\"].sum()\n",
    "sum_sk_other = ds[\"sk_other\"].sum()\n",
    "\n",
    "sum_sk_male"
   ]
  },
  {
   "cell_type": "code",
   "execution_count": 7,
   "metadata": {},
   "outputs": [
    {
     "data": {
      "text/plain": [
       "0.2904238618524333"
      ]
     },
     "execution_count": 7,
     "metadata": {},
     "output_type": "execute_result"
    }
   ],
   "source": [
    "#2) Calculate the percentage of sick by genres:\n",
    "percentage_males = sum_sk_male/total_doents\n",
    "percentage_female = sum_sk_female/total_doents\n",
    "percentage_other = ((total_doents-(sum_sk_male+sum_sk_female))/total_doents)\n",
    "\n",
    "percentage_other\n"
   ]
  },
  {
   "cell_type": "code",
   "execution_count": 8,
   "metadata": {},
   "outputs": [
    {
     "data": {
      "image/png": "[encoded data removed]",
      "text/plain": [
       "<Figure size 432x288 with 1 Axes>"
      ]
     },
     "metadata": {},
     "output_type": "display_data"
    }
   ],
   "source": [
    "# Data to plot\n",
    "labels = 'Males', 'Females', 'Other'\n",
    "sizes = [percentage_males, percentage_female, percentage_other]\n",
    "colors = ['lightskyblue', 'yellowgreen', 'lightcoral']\n",
    "explode = (0.08, 0.05, 0.05)  # explode 1st slice\n",
    "\n",
    "# Plot\n",
    "plt.pie(sizes, explode=explode, labels=labels, colors=colors,\n",
    "autopct='%1.1f%%', shadow=True, startangle=140)\n",
    "\n",
    "plt.axis('equal')\n",
    "plt.show()"
   ]
  },
  {
   "cell_type": "markdown",
   "metadata": {},
   "source": [
    "## Country"
   ]
  },
  {
   "cell_type": "code",
   "execution_count": 26,
   "metadata": {},
   "outputs": [
    {
     "data": {
      "text/plain": [
       "<matplotlib.axes._subplots.AxesSubplot at 0x21d1f138128>"
      ]
     },
     "execution_count": 26,
     "metadata": {},
     "output_type": "execute_result"
    },
    {
     "data": {
      "image/png": "[encoded data removed]",
      "text/plain": [
       "<Figure size 432x288 with 1 Axes>"
      ]
     },
     "metadata": {
      "needs_background": "light"
     },
     "output_type": "display_data"
    }
   ],
   "source": [
    "df1 = ds.pivot_table(values = \"Timestamp\" , index=[\"Country\"], aggfunc='count')\n",
    "df1 = df1.sort_values(by = \"Timestamp\", ascending = False)\n",
    "df1[:5].plot.bar(legend = False)\n"
   ]
  },
  {
   "cell_type": "markdown",
   "metadata": {},
   "source": [
    "## Ages"
   ]
  },
  {
   "cell_type": "code",
   "execution_count": 49,
   "metadata": {},
   "outputs": [
    {
     "data": {
      "text/plain": [
       "<matplotlib.axes._subplots.AxesSubplot at 0x21d1f3f6b38>"
      ]
     },
     "execution_count": 49,
     "metadata": {},
     "output_type": "execute_result"
    },
    {
     "data": {
      "image/png": "[encoded data removed]",
      "text/plain": [
       "<Figure size 432x288 with 1 Axes>"
      ]
     },
     "metadata": {
      "needs_background": "light"
     },
     "output_type": "display_data"
    }
   ],
   "source": [
    "#Looking at the unique values is possible to observe that most ages are between the 25 to 60 years old so I decided to \n",
    "#divide in 3 category \n",
    "bins= [0, 25,35, 50]\n",
    "labels =[\">25\",\"25-35\", \"35+\" ]\n",
    "ds[\"Ages_C\"] = pd.cut(ds[\"Age\"], include_lowest = False, bins = bins, labels = labels)\n",
    "\n",
    "df2 = ds.pivot_table(values = \"Timestamp\" , index=[\"Ages_C\"], aggfunc='count')\n",
    "df2 = df2.sort_values(by = \"Timestamp\", ascending = False)\n",
    "df2.plot.bar(legend = False)\n"
   ]
  },
  {
   "cell_type": "markdown",
   "metadata": {},
   "source": [
    "## Age vs Mental Health Problem"
   ]
  },
  {
   "cell_type": "code",
   "execution_count": 64,
   "metadata": {},
   "outputs": [
    {
     "data": {
      "text/plain": [
       "<matplotlib.axes._subplots.AxesSubplot at 0x21d20546240>"
      ]
     },
     "execution_count": 64,
     "metadata": {},
     "output_type": "execute_result"
    },
    {
     "data": {
      "image/png": "[encoded data removed]",
      "text/plain": [
       "<Figure size 432x288 with 1 Axes>"
      ]
     },
     "metadata": {
      "needs_background": "light"
     },
     "output_type": "display_data"
    }
   ],
   "source": [
    "df3 = ds.pivot_table(values = [\"mental problem\"], index=[\"Ages_C\"], aggfunc='mean')\n",
    "df3.plot.bar()"
   ]
  },
  {
   "cell_type": "markdown",
   "metadata": {},
   "source": [
    "## Self employee vs Mental Health Problem"
   ]
  },
  {
   "cell_type": "code",
   "execution_count": 68,
   "metadata": {},
   "outputs": [
    {
     "data": {
      "text/plain": [
       "<matplotlib.axes._subplots.AxesSubplot at 0x21d20660b70>"
      ]
     },
     "execution_count": 68,
     "metadata": {},
     "output_type": "execute_result"
    },
    {
     "data": {
      "image/png": "[encoded data removed]",
      "text/plain": [
       "<Figure size 432x288 with 1 Axes>"
      ]
     },
     "metadata": {
      "needs_background": "light"
     },
     "output_type": "display_data"
    }
   ],
   "source": [
    "df5 =ds.pivot_table(values = \"mental problem\" , index=[\"self_employed\"], aggfunc='mean')\n",
    "df5.plot.bar(legend = False)"
   ]
  },
  {
   "cell_type": "code",
   "execution_count": 61,
   "metadata": {},
   "outputs": [
    {
     "data": {
      "text/html": [
       "<div>\n",
       "<style scoped>\n",
       "    .dataframe tbody tr th:only-of-type {\n",
       "        vertical-align: middle;\n",
       "    }\n",
       "\n",
       "    .dataframe tbody tr th {\n",
       "        vertical-align: top;\n",
       "    }\n",
       "\n",
       "    .dataframe thead tr th {\n",
       "        text-align: left;\n",
       "    }\n",
       "\n",
       "    .dataframe thead tr:last-of-type th {\n",
       "        text-align: right;\n",
       "    }\n",
       "</style>\n",
       "<table border=\"1\" class=\"dataframe\">\n",
       "  <thead>\n",
       "    <tr>\n",
       "      <th></th>\n",
       "      <th colspan=\"2\" halign=\"left\">Age</th>\n",
       "      <th colspan=\"2\" halign=\"left\">Female</th>\n",
       "      <th colspan=\"2\" halign=\"left\">Male</th>\n",
       "      <th colspan=\"2\" halign=\"left\">other_gender</th>\n",
       "      <th colspan=\"2\" halign=\"left\">sk_female</th>\n",
       "      <th colspan=\"2\" halign=\"left\">sk_male</th>\n",
       "      <th colspan=\"2\" halign=\"left\">sk_other</th>\n",
       "      <th colspan=\"2\" halign=\"left\">tech_sk</th>\n",
       "    </tr>\n",
       "    <tr>\n",
       "      <th>mental problem</th>\n",
       "      <th>False</th>\n",
       "      <th>True</th>\n",
       "      <th>False</th>\n",
       "      <th>True</th>\n",
       "      <th>False</th>\n",
       "      <th>True</th>\n",
       "      <th>False</th>\n",
       "      <th>True</th>\n",
       "      <th>False</th>\n",
       "      <th>True</th>\n",
       "      <th>False</th>\n",
       "      <th>True</th>\n",
       "      <th>False</th>\n",
       "      <th>True</th>\n",
       "      <th>False</th>\n",
       "      <th>True</th>\n",
       "    </tr>\n",
       "    <tr>\n",
       "      <th>Ages_C</th>\n",
       "      <th></th>\n",
       "      <th></th>\n",
       "      <th></th>\n",
       "      <th></th>\n",
       "      <th></th>\n",
       "      <th></th>\n",
       "      <th></th>\n",
       "      <th></th>\n",
       "      <th></th>\n",
       "      <th></th>\n",
       "      <th></th>\n",
       "      <th></th>\n",
       "      <th></th>\n",
       "      <th></th>\n",
       "      <th></th>\n",
       "      <th></th>\n",
       "    </tr>\n",
       "  </thead>\n",
       "  <tbody>\n",
       "    <tr>\n",
       "      <th>&gt;25</th>\n",
       "      <td>22.754386</td>\n",
       "      <td>23.084906</td>\n",
       "      <td>0.105263</td>\n",
       "      <td>0.207547</td>\n",
       "      <td>0.666667</td>\n",
       "      <td>0.566038</td>\n",
       "      <td>0.035088</td>\n",
       "      <td>0.113208</td>\n",
       "      <td>0.0</td>\n",
       "      <td>0.207547</td>\n",
       "      <td>0.0</td>\n",
       "      <td>0.566038</td>\n",
       "      <td>0.0</td>\n",
       "      <td>0.113208</td>\n",
       "      <td>0.0</td>\n",
       "      <td>0.820755</td>\n",
       "    </tr>\n",
       "    <tr>\n",
       "      <th>25-35</th>\n",
       "      <td>30.225000</td>\n",
       "      <td>30.472141</td>\n",
       "      <td>0.077778</td>\n",
       "      <td>0.193548</td>\n",
       "      <td>0.641667</td>\n",
       "      <td>0.498534</td>\n",
       "      <td>0.041667</td>\n",
       "      <td>0.093842</td>\n",
       "      <td>0.0</td>\n",
       "      <td>0.193548</td>\n",
       "      <td>0.0</td>\n",
       "      <td>0.498534</td>\n",
       "      <td>0.0</td>\n",
       "      <td>0.093842</td>\n",
       "      <td>0.0</td>\n",
       "      <td>0.829912</td>\n",
       "    </tr>\n",
       "    <tr>\n",
       "      <th>35+</th>\n",
       "      <td>40.268116</td>\n",
       "      <td>40.319527</td>\n",
       "      <td>0.086957</td>\n",
       "      <td>0.142012</td>\n",
       "      <td>0.673913</td>\n",
       "      <td>0.568047</td>\n",
       "      <td>0.021739</td>\n",
       "      <td>0.071006</td>\n",
       "      <td>0.0</td>\n",
       "      <td>0.142012</td>\n",
       "      <td>0.0</td>\n",
       "      <td>0.568047</td>\n",
       "      <td>0.0</td>\n",
       "      <td>0.071006</td>\n",
       "      <td>0.0</td>\n",
       "      <td>0.751479</td>\n",
       "    </tr>\n",
       "  </tbody>\n",
       "</table>\n",
       "</div>"
      ],
      "text/plain": [
       "                      Age               Female                Male            \\\n",
       "mental problem      False      True      False     True      False     True    \n",
       "Ages_C                                                                         \n",
       ">25             22.754386  23.084906  0.105263  0.207547  0.666667  0.566038   \n",
       "25-35           30.225000  30.472141  0.077778  0.193548  0.641667  0.498534   \n",
       "35+             40.268116  40.319527  0.086957  0.142012  0.673913  0.568047   \n",
       "\n",
       "               other_gender           sk_female           sk_male            \\\n",
       "mental problem        False     True      False     True    False     True    \n",
       "Ages_C                                                                        \n",
       ">25                0.035088  0.113208       0.0  0.207547     0.0  0.566038   \n",
       "25-35              0.041667  0.093842       0.0  0.193548     0.0  0.498534   \n",
       "35+                0.021739  0.071006       0.0  0.142012     0.0  0.568047   \n",
       "\n",
       "               sk_other           tech_sk            \n",
       "mental problem    False     True    False     True   \n",
       "Ages_C                                               \n",
       ">25                 0.0  0.113208     0.0  0.820755  \n",
       "25-35               0.0  0.093842     0.0  0.829912  \n",
       "35+                 0.0  0.071006     0.0  0.751479  "
      ]
     },
     "execution_count": 61,
     "metadata": {},
     "output_type": "execute_result"
    }
   ],
   "source": [
    "df3 = ds.pivot_table(index=[\"Ages_C\"], columns = [\"mental problem\"], aggfunc='mean')\n",
    "df3"
   ]
  },
  {
   "cell_type": "markdown",
   "metadata": {},
   "source": [
    "## Tech job vs mental problem"
   ]
  },
  {
   "cell_type": "code",
   "execution_count": 54,
   "metadata": {},
   "outputs": [
    {
     "data": {
      "text/html": [
       "<div>\n",
       "<style scoped>\n",
       "    .dataframe tbody tr th:only-of-type {\n",
       "        vertical-align: middle;\n",
       "    }\n",
       "\n",
       "    .dataframe tbody tr th {\n",
       "        vertical-align: top;\n",
       "    }\n",
       "\n",
       "    .dataframe thead th {\n",
       "        text-align: right;\n",
       "    }\n",
       "</style>\n",
       "<table border=\"1\" class=\"dataframe\">\n",
       "  <thead>\n",
       "    <tr style=\"text-align: right;\">\n",
       "      <th></th>\n",
       "      <th>Age</th>\n",
       "      <th>mental problem</th>\n",
       "      <th>Female</th>\n",
       "      <th>Male</th>\n",
       "      <th>other_gender</th>\n",
       "      <th>sk_male</th>\n",
       "      <th>sk_female</th>\n",
       "      <th>sk_other</th>\n",
       "      <th>tech_sk</th>\n",
       "    </tr>\n",
       "  </thead>\n",
       "  <tbody>\n",
       "    <tr>\n",
       "      <th>Age</th>\n",
       "      <td>1.000000</td>\n",
       "      <td>0.027860</td>\n",
       "      <td>-0.010949</td>\n",
       "      <td>-0.033943</td>\n",
       "      <td>-0.007295</td>\n",
       "      <td>-0.017115</td>\n",
       "      <td>-0.008853</td>\n",
       "      <td>-0.006083</td>\n",
       "      <td>0.033943</td>\n",
       "    </tr>\n",
       "    <tr>\n",
       "      <th>mental problem</th>\n",
       "      <td>0.027860</td>\n",
       "      <td>1.000000</td>\n",
       "      <td>0.138958</td>\n",
       "      <td>-0.122624</td>\n",
       "      <td>0.105008</td>\n",
       "      <td>0.599834</td>\n",
       "      <td>0.310293</td>\n",
       "      <td>0.213200</td>\n",
       "      <td>0.820784</td>\n",
       "    </tr>\n",
       "    <tr>\n",
       "      <th>Female</th>\n",
       "      <td>-0.010949</td>\n",
       "      <td>0.138958</td>\n",
       "      <td>1.000000</td>\n",
       "      <td>-0.467552</td>\n",
       "      <td>-0.100486</td>\n",
       "      <td>-0.235743</td>\n",
       "      <td>0.808563</td>\n",
       "      <td>-0.083790</td>\n",
       "      <td>0.108401</td>\n",
       "    </tr>\n",
       "    <tr>\n",
       "      <th>Male</th>\n",
       "      <td>-0.033943</td>\n",
       "      <td>-0.122624</td>\n",
       "      <td>-0.467552</td>\n",
       "      <td>1.000000</td>\n",
       "      <td>-0.311508</td>\n",
       "      <td>0.504208</td>\n",
       "      <td>-0.378045</td>\n",
       "      <td>-0.259751</td>\n",
       "      <td>-0.072838</td>\n",
       "    </tr>\n",
       "    <tr>\n",
       "      <th>other_gender</th>\n",
       "      <td>-0.007295</td>\n",
       "      <td>0.105008</td>\n",
       "      <td>-0.100486</td>\n",
       "      <td>-0.311508</td>\n",
       "      <td>1.000000</td>\n",
       "      <td>-0.157065</td>\n",
       "      <td>-0.081249</td>\n",
       "      <td>0.833851</td>\n",
       "      <td>0.044962</td>\n",
       "    </tr>\n",
       "    <tr>\n",
       "      <th>sk_male</th>\n",
       "      <td>-0.017115</td>\n",
       "      <td>0.599834</td>\n",
       "      <td>-0.235743</td>\n",
       "      <td>0.504208</td>\n",
       "      <td>-0.157065</td>\n",
       "      <td>1.000000</td>\n",
       "      <td>-0.190613</td>\n",
       "      <td>-0.130969</td>\n",
       "      <td>0.523149</td>\n",
       "    </tr>\n",
       "    <tr>\n",
       "      <th>sk_female</th>\n",
       "      <td>-0.008853</td>\n",
       "      <td>0.310293</td>\n",
       "      <td>0.808563</td>\n",
       "      <td>-0.378045</td>\n",
       "      <td>-0.081249</td>\n",
       "      <td>-0.190613</td>\n",
       "      <td>1.000000</td>\n",
       "      <td>-0.067750</td>\n",
       "      <td>0.248009</td>\n",
       "    </tr>\n",
       "    <tr>\n",
       "      <th>sk_other</th>\n",
       "      <td>-0.006083</td>\n",
       "      <td>0.213200</td>\n",
       "      <td>-0.083790</td>\n",
       "      <td>-0.259751</td>\n",
       "      <td>0.833851</td>\n",
       "      <td>-0.130969</td>\n",
       "      <td>-0.067750</td>\n",
       "      <td>1.000000</td>\n",
       "      <td>0.126495</td>\n",
       "    </tr>\n",
       "    <tr>\n",
       "      <th>tech_sk</th>\n",
       "      <td>0.033943</td>\n",
       "      <td>0.820784</td>\n",
       "      <td>0.108401</td>\n",
       "      <td>-0.072838</td>\n",
       "      <td>0.044962</td>\n",
       "      <td>0.523149</td>\n",
       "      <td>0.248009</td>\n",
       "      <td>0.126495</td>\n",
       "      <td>1.000000</td>\n",
       "    </tr>\n",
       "  </tbody>\n",
       "</table>\n",
       "</div>"
      ],
      "text/plain": [
       "                     Age  mental problem    Female      Male  other_gender  \\\n",
       "Age             1.000000        0.027860 -0.010949 -0.033943     -0.007295   \n",
       "mental problem  0.027860        1.000000  0.138958 -0.122624      0.105008   \n",
       "Female         -0.010949        0.138958  1.000000 -0.467552     -0.100486   \n",
       "Male           -0.033943       -0.122624 -0.467552  1.000000     -0.311508   \n",
       "other_gender   -0.007295        0.105008 -0.100486 -0.311508      1.000000   \n",
       "sk_male        -0.017115        0.599834 -0.235743  0.504208     -0.157065   \n",
       "sk_female      -0.008853        0.310293  0.808563 -0.378045     -0.081249   \n",
       "sk_other       -0.006083        0.213200 -0.083790 -0.259751      0.833851   \n",
       "tech_sk         0.033943        0.820784  0.108401 -0.072838      0.044962   \n",
       "\n",
       "                 sk_male  sk_female  sk_other   tech_sk  \n",
       "Age            -0.017115  -0.008853 -0.006083  0.033943  \n",
       "mental problem  0.599834   0.310293  0.213200  0.820784  \n",
       "Female         -0.235743   0.808563 -0.083790  0.108401  \n",
       "Male            0.504208  -0.378045 -0.259751 -0.072838  \n",
       "other_gender   -0.157065  -0.081249  0.833851  0.044962  \n",
       "sk_male         1.000000  -0.190613 -0.130969  0.523149  \n",
       "sk_female      -0.190613   1.000000 -0.067750  0.248009  \n",
       "sk_other       -0.130969  -0.067750  1.000000  0.126495  \n",
       "tech_sk         0.523149   0.248009  0.126495  1.000000  "
      ]
     },
     "execution_count": 54,
     "metadata": {},
     "output_type": "execute_result"
    }
   ],
   "source": [
    "#Is there a correlation between working for a tech company and having mental problems?\n",
    "\n",
    "#1) Define the rows with people with mental problems and that work on a tech company:\n",
    "def match_T(row):\n",
    "    if (row['tech_company'] == \"Yes\") and (row['mental problem'] == True):\n",
    "        val = 1\n",
    "    else:\n",
    "        val = 0\n",
    "    return val\n",
    "\n",
    "ds[\"tech_sk\"] = ds.apply(match_T, axis=1)\n",
    "sum_tech_sk = ds[\"tech_sk\"].sum()\n",
    "\n",
    "#2) Calculate the percentage of persons that work on a tech company that have mental problems:\n",
    "percentage_tech_sk = sum_tech_sk/total_doents * 100\n",
    "percetage_nontech_sk = 100 - percentage_tech_sk \n",
    "percentage_tech_sk\n",
    "\n",
    "ds.corr()"
   ]
  },
  {
   "cell_type": "code",
   "execution_count": 53,
   "metadata": {},
   "outputs": [
    {
     "data": {
      "image/png": "[encoded data removed]",
      "text/plain": [
       "<Figure size 432x288 with 1 Axes>"
      ]
     },
     "metadata": {},
     "output_type": "display_data"
    }
   ],
   "source": [
    "labels = 'Tech Employees', 'Non-Tech Employees'\n",
    "sizes = [percentage_tech_sk, percetage_nontech_sk ]\n",
    "colors = ['lightskyblue', 'lightcoral']\n",
    "explode = (0.08, 0.05)  # explode 1st slice\n",
    "\n",
    "# Plot\n",
    "plt.pie(sizes, explode=explode, labels=labels, colors=colors,\n",
    "autopct='%1.1f%%', shadow=True, startangle=90)\n",
    "\n",
    "plt.axis('equal')\n",
    "plt.show()"
   ]
  },
  {
   "cell_type": "markdown",
   "metadata": {},
   "source": [
    "## Is gender a factor that influences the perception on mental health?"
   ]
  },
  {
   "cell_type": "code",
   "execution_count": 71,
   "metadata": {},
   "outputs": [
    {
     "name": "stdout",
     "output_type": "stream",
     "text": [
      "Males 59.17394757744241\n",
      "Female 13.105639396346305\n",
      "Other 27.720413026211276\n"
     ]
    }
   ],
   "source": [
    "#there are genders differences between the aprproching mental health.\n",
    "#1) Define the rows with people with males and negative perception on talking about mental health on the job:\n",
    "def match_MP(row):\n",
    "    if (row['Male'] == True) and (row['work_interfere'] == \"Often\" or \"Sometimes\"):\n",
    "        val = 1\n",
    "    else:\n",
    "        val = 0\n",
    "    return val\n",
    "\n",
    "Total_responses = ds[\"Gender\"].count()\n",
    "\n",
    "ds[\"male_n_perc\"] = ds.apply(match_MP, axis=1)\n",
    "sum_male_n_perc = ds[\"male_n_perc\"].sum()\n",
    "\n",
    "\n",
    "#2) Define the rows with people with female and negative perception on talking about mental health on the job:\n",
    "def match_FP(row):\n",
    "    if (row['Female'] == True) and (row['work_interfere'] == \"Often\" or \"Sometimes\"):\n",
    "        val = 1\n",
    "    else:\n",
    "        val = 0\n",
    "    return val\n",
    "\n",
    "ds[\"female_n_perc\"] = ds.apply(match_FP, axis=1)\n",
    "sum_female_n_perc = ds[\"female_n_perc\"].sum()\n",
    "\n",
    "\n",
    "#3) Define the rows with people with other and negative perception on talking about mental health on the job:\n",
    "def match_OP(row):\n",
    "    if (row['other_gender'] == True) and (row['work_interfere'] == \"Often\" or \"Sometimes\"):\n",
    "        val = 1\n",
    "    else:\n",
    "        val = 0\n",
    "    return val\n",
    "\n",
    "ds[\"other_n_perc\"] = ds.apply(match_OP, axis=1)\n",
    "sum_other_n_perc = ds[\"other_n_perc\"].sum()\n",
    "\n",
    "#3) Calculate the percentage:\n",
    "percentage_male_n_perc = sum_male_n_perc/Total_responses * 100\n",
    "print(\"Males\", percentage_male_n_perc)\n",
    "percentage_female_n_perc = sum_female_n_perc/Total_responses * 100\n",
    "print(\"Female\", percentage_female_n_perc)\n",
    "percentage_other_n_perc = 100 - (percentage_female_n_perc+percentage_male_n_perc)\n",
    "print(\"Other\", percentage_other_n_perc)\n",
    "\n",
    "\n"
   ]
  },
  {
   "cell_type": "code",
   "execution_count": 73,
   "metadata": {},
   "outputs": [
    {
     "data": {
      "image/png": "[encoded data removed]",
      "text/plain": [
       "<Figure size 432x288 with 1 Axes>"
      ]
     },
     "metadata": {},
     "output_type": "display_data"
    }
   ],
   "source": [
    "labels = 'Males', 'Females', 'Other'\n",
    "sizes = [percentage_male_n_perc, percentage_female_n_perc, percentage_other_n_perc]\n",
    "colors = ['lightskyblue', 'yellowgreen', 'lightcoral']\n",
    "explode = (0.08, 0.05, 0.05)  # explode 1st slice\n",
    "\n",
    "# Plot\n",
    "plt.pie(sizes, explode=explode, labels=labels, colors=colors,\n",
    "autopct='%1.1f%%', shadow=True, startangle=140)\n",
    "\n",
    "plt.axis('equal')\n",
    "plt.show()"
   ]
  },
  {
   "cell_type": "code",
   "execution_count": null,
   "metadata": {},
   "outputs": [],
   "source": []
  }
 ],
 "metadata": {
  "kernelspec": {
   "display_name": "Python 3",
   "language": "python",
   "name": "python3"
  },
  "language_info": {
   "codemirror_mode": {
    "name": "ipython",
    "version": 3
   },
   "file_extension": ".py",
   "mimetype": "text/x-python",
   "name": "python",
   "nbconvert_exporter": "python",
   "pygments_lexer": "ipython3",
   "version": "3.7.3"
  }
 },
 "nbformat": 4,
 "nbformat_minor": 2
}
